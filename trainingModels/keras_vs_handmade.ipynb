{
 "cells": [
  {
   "cell_type": "markdown",
   "metadata": {},
   "source": [
    "### Import libraries and modules"
   ]
  },
  {
   "cell_type": "code",
   "execution_count": 10,
   "metadata": {},
   "outputs": [],
   "source": [
    "import numpy as np\n",
    "import random\n",
    "import tensorflow as tf\n",
    "import matplotlib.pyplot as plt\n",
    "\n",
    "from tensorflow.keras.models import Sequential\n",
    "from tensorflow.keras.layers import Flatten, Dense\n",
    "from tensorflow.keras.utils import to_categorical\n",
    "from tensorflow.keras.optimizers import SGD"
   ]
  },
  {
   "cell_type": "markdown",
   "metadata": {},
   "source": [
    "### MNIST Dataset reading"
   ]
  },
  {
   "cell_type": "code",
   "execution_count": 11,
   "metadata": {},
   "outputs": [],
   "source": [
    "(x_train_raw, y_train_raw), (x_test_raw, y_test_raw) = tf.keras.datasets.mnist.load_data()"
   ]
  },
  {
   "cell_type": "markdown",
   "metadata": {},
   "source": [
    "### Data treatment"
   ]
  },
  {
   "cell_type": "code",
   "execution_count": 12,
   "metadata": {},
   "outputs": [],
   "source": [
    "#data normalize\n",
    "x_train_raw = x_train_raw.astype('float32') / 255.0\n",
    "x_test = x_test_raw.astype('float32') / 255.0\n",
    "#adding grayscale channel\n",
    "x_train_raw = np.expand_dims(x_train_raw, -1)\n",
    "x_test = np.expand_dims(x_test, -1)\n",
    "#categorical labels\n",
    "y_train = to_categorical(y_train_raw)\n",
    "y_test = to_categorical(y_test_raw)\n",
    "#data quantity assigment\n",
    "x_train = x_train_raw[1:40001,:,:,:] \n",
    "y_train = y_train[1:40001,:]"
   ]
  },
  {
   "cell_type": "markdown",
   "metadata": {},
   "source": [
    "### Construction of the neural network"
   ]
  },
  {
   "cell_type": "code",
   "execution_count": 13,
   "metadata": {},
   "outputs": [],
   "source": [
    "def BuildModel():\n",
    "    \n",
    "    #Sequential NN creation w/ 1 dense hidden layer\n",
    "    model = Sequential([\n",
    "        Flatten(),\n",
    "        Dense(16, activation='relu'),\n",
    "        Dense(8, activation='relu'),\n",
    "        Dense(10, activation='sigmoid')\n",
    "    ])\n",
    "\n",
    "    optimizer = SGD(learning_rate=0.1)\n",
    "    \n",
    "    model.compile(\n",
    "        loss = 'mse',\n",
    "        optimizer = optimizer,\n",
    "        metrics = ['accuracy'] \n",
    "    )\n",
    "    \n",
    "    return model"
   ]
  },
  {
   "cell_type": "code",
   "execution_count": 14,
   "metadata": {},
   "outputs": [],
   "source": [
    "model = BuildModel()"
   ]
  },
  {
   "cell_type": "markdown",
   "metadata": {},
   "source": [
    "### Model Trainning"
   ]
  },
  {
   "cell_type": "code",
   "execution_count": 15,
   "metadata": {},
   "outputs": [
    {
     "name": "stdout",
     "output_type": "stream",
     "text": [
      "Epoch 1/20\n",
      "1250/1250 [==============================] - 18s 14ms/step - loss: 0.1127 - accuracy: 0.1551\n",
      "Epoch 2/20\n",
      "1250/1250 [==============================] - 18s 14ms/step - loss: 0.0818 - accuracy: 0.2664\n",
      "Epoch 3/20\n",
      "1250/1250 [==============================] - 27s 22ms/step - loss: 0.0744 - accuracy: 0.3919\n",
      "Epoch 4/20\n",
      "1250/1250 [==============================] - 16s 13ms/step - loss: 0.0661 - accuracy: 0.4987\n",
      "Epoch 5/20\n",
      "1250/1250 [==============================] - 20s 16ms/step - loss: 0.0587 - accuracy: 0.5941\n",
      "Epoch 6/20\n",
      "1250/1250 [==============================] - 16s 13ms/step - loss: 0.0529 - accuracy: 0.6366\n",
      "Epoch 7/20\n",
      "1250/1250 [==============================] - 28s 23ms/step - loss: 0.0485 - accuracy: 0.6724\n",
      "Epoch 8/20\n",
      "1250/1250 [==============================] - 30s 24ms/step - loss: 0.0448 - accuracy: 0.6836\n",
      "Epoch 9/20\n",
      "1250/1250 [==============================] - 33s 26ms/step - loss: 0.0417 - accuracy: 0.7201\n",
      "Epoch 10/20\n",
      "1250/1250 [==============================] - 19s 15ms/step - loss: 0.0393 - accuracy: 0.7538\n",
      "Epoch 11/20\n",
      "1250/1250 [==============================] - 23s 19ms/step - loss: 0.0369 - accuracy: 0.7811\n",
      "Epoch 12/20\n",
      "1250/1250 [==============================] - 26s 21ms/step - loss: 0.0349 - accuracy: 0.7990\n",
      "Epoch 13/20\n",
      "1250/1250 [==============================] - 18s 14ms/step - loss: 0.0330 - accuracy: 0.8120\n",
      "Epoch 14/20\n",
      "1250/1250 [==============================] - 16s 12ms/step - loss: 0.0301 - accuracy: 0.8196\n",
      "Epoch 15/20\n",
      "1250/1250 [==============================] - 19s 15ms/step - loss: 0.0273 - accuracy: 0.8430\n",
      "Epoch 16/20\n",
      "1250/1250 [==============================] - 23s 19ms/step - loss: 0.0252 - accuracy: 0.8619\n",
      "Epoch 17/20\n",
      "1250/1250 [==============================] - 17s 14ms/step - loss: 0.0241 - accuracy: 0.8706\n",
      "Epoch 18/20\n",
      "1250/1250 [==============================] - 16s 13ms/step - loss: 0.0226 - accuracy: 0.8794\n",
      "Epoch 19/20\n",
      "1250/1250 [==============================] - 18s 15ms/step - loss: 0.0211 - accuracy: 0.8832\n",
      "Epoch 20/20\n",
      "1250/1250 [==============================] - 15s 12ms/step - loss: 0.0193 - accuracy: 0.8910\n",
      "Model: \"sequential\"\n",
      "_________________________________________________________________\n",
      "Layer (type)                 Output Shape              Param #   \n",
      "=================================================================\n",
      "flatten (Flatten)            (32, 784)                 0         \n",
      "_________________________________________________________________\n",
      "dense (Dense)                (32, 16)                  12560     \n",
      "_________________________________________________________________\n",
      "dense_1 (Dense)              (32, 8)                   136       \n",
      "_________________________________________________________________\n",
      "dense_2 (Dense)              (32, 10)                  90        \n",
      "=================================================================\n",
      "Total params: 12,786\n",
      "Trainable params: 12,786\n",
      "Non-trainable params: 0\n",
      "_________________________________________________________________\n"
     ]
    }
   ],
   "source": [
    "history = model.fit(\n",
    "    x_train, y_train,\n",
    "    epochs = 20\n",
    ")\n",
    "\n",
    "model.summary()"
   ]
  },
  {
   "cell_type": "markdown",
   "metadata": {},
   "source": [
    "### Loss vs. Epochs Graph"
   ]
  },
  {
   "cell_type": "code",
   "execution_count": 17,
   "metadata": {},
   "outputs": [
    {
     "data": {
      "image/png": "[encoded data removed]",
      "text/plain": [
       "<Figure size 432x288 with 1 Axes>"
      ]
     },
     "metadata": {
      "needs_background": "light"
     },
     "output_type": "display_data"
    }
   ],
   "source": [
    "loss = history.history['loss']\n",
    "epochs = range(len(loss))\n",
    "plt.plot(epochs, loss, 'b', label='Training loss')\n",
    "plt.title('Loss vs. Epochs')\n",
    "plt.legend()\n",
    "plt.show()"
   ]
  }
 ],
 "metadata": {
  "interpreter": {
   "hash": "6b055dcc96ad675ee6176af2dc3b909163f6e8ddac37f66f9c9c3c9744edd8df"
  },
  "kernelspec": {
   "display_name": "Python 3.9.7 ('ML')",
   "language": "python",
   "name": "python3"
  },
  "language_info": {
   "codemirror_mode": {
    "name": "ipython",
    "version": 3
   },
   "file_extension": ".py",
   "mimetype": "text/x-python",
   "name": "python",
   "nbconvert_exporter": "python",
   "pygments_lexer": "ipython3",
   "version": "3.9.7"
  },
  "orig_nbformat": 4
 },
 "nbformat": 4,
 "nbformat_minor": 2
}
