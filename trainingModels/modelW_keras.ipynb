{
 "cells": [
  {
   "cell_type": "markdown",
   "metadata": {},
   "source": [
    "### Import libraries and modules"
   ]
  },
  {
   "cell_type": "code",
   "execution_count": 1,
   "metadata": {},
   "outputs": [],
   "source": [
    "import numpy as np\n",
    "import random\n",
    "import tensorflow as tf\n",
    "import matplotlib.pyplot as plt\n",
    "\n",
    "from tensorflow.keras.models import Sequential\n",
    "from tensorflow.keras.layers import Flatten, Dense\n",
    "from tensorflow.keras.utils import to_categorical\n",
    "from tensorflow.keras.optimizers import SGD"
   ]
  },
  {
   "cell_type": "markdown",
   "metadata": {},
   "source": [
    "### MNIST Dataset reading"
   ]
  },
  {
   "cell_type": "code",
   "execution_count": 2,
   "metadata": {},
   "outputs": [],
   "source": [
    "(x_train_raw, y_train_raw), (x_test_raw, y_test_raw) = tf.keras.datasets.mnist.load_data()"
   ]
  },
  {
   "cell_type": "markdown",
   "metadata": {},
   "source": [
    "### Data treatment"
   ]
  },
  {
   "cell_type": "code",
   "execution_count": 3,
   "metadata": {},
   "outputs": [],
   "source": [
    "#data normalize\n",
    "x_train_raw = x_train_raw.astype('float32') / 255.0\n",
    "x_test = x_test_raw.astype('float32') / 255.0\n",
    "#adding grayscale channel\n",
    "x_train_raw = np.expand_dims(x_train_raw, -1)\n",
    "x_test = np.expand_dims(x_test, -1)\n",
    "#categorical labels\n",
    "y_train = to_categorical(y_train_raw)\n",
    "y_test = to_categorical(y_test_raw)\n",
    "#data quantity assigment\n",
    "x_train = x_train_raw[0:60000,:,:,:] \n",
    "y_train = y_train[0:60000,:]\n",
    "\n"
   ]
  },
  {
   "cell_type": "markdown",
   "metadata": {},
   "source": [
    "### Model parameters visualization"
   ]
  },
  {
   "cell_type": "code",
   "execution_count": 5,
   "metadata": {},
   "outputs": [],
   "source": [
    "def ParamsVisual(history):\n",
    "    fig, (axL, axR) = plt.subplots(ncols=2, figsize=(20, 8))\n",
    "\n",
    "    axL.plot(history.history['Loss'], label=\"Loss (cce) - Training\")\n",
    "    axL.plot(history.history['val_loss'], label=\"Loss (cce) - Validation\")\n",
    "    axL.set_title('Model Loss')\n",
    "    axL.set_xlabel('Epoch')\n",
    "    axL.set_ylabel('Loss')\n",
    "    axL.legend(loc='upper right')\n",
    "\n",
    "    axR.plot(history.history['accuracy'], label=\"Accuracy - Training\")\n",
    "    axR.plot(history.history['val_accuracy'], label=\"Accuracy - Validation\")\n",
    "    axR.set_title('Model accuracy')\n",
    "    axR.set_xlabel('Epoch')\n",
    "    axR.set_ylabel('Accuracy')\n",
    "    axR.legend(loc='upper right')\n",
    "\n",
    "    plt.show()"
   ]
  },
  {
   "cell_type": "markdown",
   "metadata": {},
   "source": [
    "### Construction of the neural network"
   ]
  },
  {
   "cell_type": "code",
   "execution_count": null,
   "metadata": {},
   "outputs": [],
   "source": [
    "def BuildModel():\n",
    "    \n",
    "    initializer = tf.keras.initializers.RandomUniform()\n",
    "    #Sequential NN creation w/ 1 dense hidden layer\n",
    "    model = Sequential([\n",
    "        Flatten(),\n",
    "        Dense(1, kernel_initializer=initializer, activation='relu'),\n",
    "        Dense(10, activation='softmax')\n",
    "    ])\n",
    "\n",
    "    optimizer = SGD(learning_rate=0.1)\n",
    "    \n",
    "    model.compile(\n",
    "        loss = 'cce',\n",
    "        optimizer = optimizer,\n",
    "        metrics = ['accuracy'] \n",
    "    )\n",
    "    \n",
    "    return model"
   ]
  },
  {
   "cell_type": "code",
   "execution_count": null,
   "metadata": {},
   "outputs": [],
   "source": [
    "model = BuildModel()"
   ]
  },
  {
   "cell_type": "markdown",
   "metadata": {},
   "source": [
    "### Model Trainning"
   ]
  },
  {
   "cell_type": "code",
   "execution_count": null,
   "metadata": {},
   "outputs": [],
   "source": [
    "history = model.fit(\n",
    "    x_train, y_train,\n",
    "    epochs = 20, batch_size= 128\n",
    ")\n",
    "\n",
    "model.summary()"
   ]
  },
  {
   "cell_type": "markdown",
   "metadata": {},
   "source": [
    "### Accuracy vs. Epochs Graph "
   ]
  },
  {
   "cell_type": "code",
   "execution_count": null,
   "metadata": {},
   "outputs": [],
   "source": [
    "acc = history.history['accuracy']\n",
    "epochs = range(len(acc))\n",
    "plt.plot(epochs, acc, 'bo', label='Training accuracy')\n",
    "plt.title('Accuracy vs. Epochs')\n",
    "plt.legend()\n",
    "plt.show()"
   ]
  },
  {
   "cell_type": "markdown",
   "metadata": {},
   "source": [
    "### Loss vs. Epochs Graph"
   ]
  },
  {
   "cell_type": "code",
   "execution_count": null,
   "metadata": {},
   "outputs": [],
   "source": [
    "loss = history.history['loss']\n",
    "epochs = range(len(loss))\n",
    "plt.plot(epochs, loss, 'b', label='Training loss')\n",
    "plt.title('Loss vs. Epochs')\n",
    "plt.legend()\n",
    "plt.show()"
   ]
  },
  {
   "cell_type": "markdown",
   "metadata": {},
   "source": [
    "### Model test"
   ]
  },
  {
   "cell_type": "code",
   "execution_count": null,
   "metadata": {},
   "outputs": [],
   "source": [
    "#We select 1 random image of the test dataset (10.000 images)\n",
    "image = random.choice(x_test_raw)\n",
    "plt.imshow(image, cmap=plt.get_cmap('gray'))\n",
    "plt.show()"
   ]
  },
  {
   "cell_type": "code",
   "execution_count": null,
   "metadata": {},
   "outputs": [],
   "source": [
    "#Data normalize and Property vector\n",
    "image = (image.reshape((1, 28, 28, 1))).astype('float32') / 255.0\n",
    "model.predict(image)[0]"
   ]
  },
  {
   "cell_type": "code",
   "execution_count": null,
   "metadata": {},
   "outputs": [],
   "source": [
    "#Predict\n",
    "digit = np.argmax(model.predict(image)[0], axis=-1)\n",
    "print(\"Prediction: \", digit)\n",
    "\n",
    "#Evaluate the model\n",
    "score = model.evaluate(x_test, y_test, verbose=0)\n",
    "print(\"Test loss:\", score[0])\n",
    "print(\"Test accuracy:\", score[1])"
   ]
  }
 ],
 "metadata": {
  "interpreter": {
   "hash": "6b055dcc96ad675ee6176af2dc3b909163f6e8ddac37f66f9c9c3c9744edd8df"
  },
  "kernelspec": {
   "display_name": "Python 3.9.7 ('ML')",
   "language": "python",
   "name": "python3"
  },
  "language_info": {
   "codemirror_mode": {
    "name": "ipython",
    "version": 3
   },
   "file_extension": ".py",
   "mimetype": "text/x-python",
   "name": "python",
   "nbconvert_exporter": "python",
   "pygments_lexer": "ipython3",
   "version": "3.9.7"
  },
  "orig_nbformat": 4
 },
 "nbformat": 4,
 "nbformat_minor": 2
}
